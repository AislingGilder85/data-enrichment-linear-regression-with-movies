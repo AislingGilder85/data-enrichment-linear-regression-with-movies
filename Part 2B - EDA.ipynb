{
 "cells": [
  {
   "cell_type": "markdown",
   "id": "a303fc30",
   "metadata": {},
   "source": [
    "# Project 3 - Part 2 - Solution - EDA"
   ]
  },
  {
   "cell_type": "markdown",
   "id": "5a503bb8",
   "metadata": {},
   "source": [
    "- Load in your csv.gz's of results for each year extracted.\n",
    "- Concatenate the data into 1 dataframe for the remainder of the analysis.\n",
    "\n",
    "\n",
    "- Once you have your data from the API, they would like you to perform some light EDA to show:\n",
    "    - How many movies had at least some valid financial information (values > 0 for budget OR revenue)?\n",
    "        - Please exclude any movies with 0's for budget AND revenue from the remaining visualizations.\n",
    "    - How many movies are there in each of the certification categories (G/PG/PG-13/R)?\n",
    "    - What is the average revenue per certification category?\n",
    "    - What is the average budget per certification category"
   ]
  },
  {
   "cell_type": "code",
   "execution_count": 1,
   "id": "30cf3995",
   "metadata": {},
   "outputs": [],
   "source": [
    "import pandas as pd\n",
    "import matplotlib.pyplot as plt\n",
    "import seaborn as sns\n",
    "import numpy as np\n",
    "import os"
   ]
  },
  {
   "cell_type": "code",
   "execution_count": 2,
   "id": "ac61844b",
   "metadata": {},
   "outputs": [
    {
     "data": {
      "text/plain": [
       "['final_tmdb_data_2006.csv.gz',\n",
       " 'tmdb_api_results_2010.json',\n",
       " 'final_tmdb_data_2018.csv.gz',\n",
       " 'final_tmdb_data_2014.csv.gz',\n",
       " 'tmdb_api_results_2006.json',\n",
       " 'title_basics_cleaned.csv.gz',\n",
       " '.DS_Store',\n",
       " 'final_tmdb_data_2008.csv.gz',\n",
       " 'final_tmdb_data_2016.csv.gz',\n",
       " 'final_tmdb_data_2004.csv.gz',\n",
       " 'tmdb_api_results_2007.json',\n",
       " 'final_tmdb_data_2020.csv.gz',\n",
       " 'tmdb_api_results_2011.json',\n",
       " 'title_ratings_cleaned.csv.gz',\n",
       " 'tmdb_api_results_2020.json',\n",
       " 'tmdb_api_results_2016.json',\n",
       " 'tmdb_api_results_2000.json',\n",
       " 'final_tmdb_data_2000.csv.gz',\n",
       " 'final_tmdb_data_2012.csv.gz',\n",
       " 'tmdb_api_results_2001.json',\n",
       " 'final_tmdb_data_2010.csv.gz',\n",
       " 'final_tmdb_data_2002.csv.gz',\n",
       " 'tmdb_api_results_2017.json',\n",
       " 'tmdb_api_results_2021.json',\n",
       " 'tmdb_api_results_2018.json',\n",
       " 'tmdb_api_results_2002.json',\n",
       " 'final_tmdb_data_2019.csv.gz',\n",
       " 'final_tmdb_data_2007.csv.gz',\n",
       " 'tmdb_api_results_2014.json',\n",
       " 'final_tmdb_data_2015.csv.gz',\n",
       " 'tmdb_api_results_2015.json',\n",
       " 'final_tmdb_data_2021.csv.gz',\n",
       " 'tmdb_api_results_2003.json',\n",
       " 'final_tmdb_data_2017.csv.gz',\n",
       " 'final_tmdb_data_2009.csv.gz',\n",
       " 'final_tmdb_data_2005.csv.gz',\n",
       " 'tmdb_api_results_2019.json',\n",
       " 'final_tmdb_data_2001.csv.gz',\n",
       " 'final_tmdb_data_2013.csv.gz',\n",
       " 'tmdb_api_results_2004.json',\n",
       " 'tmdb_api_results_2012.json',\n",
       " 'tmdb_api_results_2008.json',\n",
       " 'tmdb_api_results_2009.json',\n",
       " 'title_akas_cleaned.csv.gz',\n",
       " 'tmdb_api_results_2013.json',\n",
       " 'final_tmdb_data_2011.csv.gz',\n",
       " 'final_tmdb_data_2003.csv.gz',\n",
       " 'tmdb_api_results_2005.json']"
      ]
     },
     "execution_count": 2,
     "metadata": {},
     "output_type": "execute_result"
    }
   ],
   "source": [
    "FOLDER = \"Data/\"\n",
    "os.listdir(FOLDER)"
   ]
  },
  {
   "cell_type": "code",
   "execution_count": 3,
   "id": "837735c3",
   "metadata": {},
   "outputs": [
    {
     "data": {
      "text/plain": [
       "['Data/final_tmdb_data_2000.csv.gz',\n",
       " 'Data/final_tmdb_data_2001.csv.gz',\n",
       " 'Data/final_tmdb_data_2002.csv.gz',\n",
       " 'Data/final_tmdb_data_2003.csv.gz',\n",
       " 'Data/final_tmdb_data_2004.csv.gz',\n",
       " 'Data/final_tmdb_data_2005.csv.gz',\n",
       " 'Data/final_tmdb_data_2006.csv.gz',\n",
       " 'Data/final_tmdb_data_2007.csv.gz',\n",
       " 'Data/final_tmdb_data_2008.csv.gz',\n",
       " 'Data/final_tmdb_data_2009.csv.gz',\n",
       " 'Data/final_tmdb_data_2010.csv.gz',\n",
       " 'Data/final_tmdb_data_2011.csv.gz',\n",
       " 'Data/final_tmdb_data_2012.csv.gz',\n",
       " 'Data/final_tmdb_data_2013.csv.gz',\n",
       " 'Data/final_tmdb_data_2014.csv.gz',\n",
       " 'Data/final_tmdb_data_2015.csv.gz',\n",
       " 'Data/final_tmdb_data_2016.csv.gz',\n",
       " 'Data/final_tmdb_data_2017.csv.gz',\n",
       " 'Data/final_tmdb_data_2018.csv.gz',\n",
       " 'Data/final_tmdb_data_2019.csv.gz',\n",
       " 'Data/final_tmdb_data_2020.csv.gz',\n",
       " 'Data/final_tmdb_data_2021.csv.gz']"
      ]
     },
     "execution_count": 3,
     "metadata": {},
     "output_type": "execute_result"
    }
   ],
   "source": [
    "## Should show students glob\n",
    "import glob\n",
    "q  = f\"{FOLDER}final*.csv.gz\"\n",
    "files = sorted(glob.glob(q))\n",
    "files"
   ]
  },
  {
   "cell_type": "markdown",
   "id": "1bf266d4",
   "metadata": {},
   "source": [
    "### Concatenating DataFrames"
   ]
  },
  {
   "cell_type": "markdown",
   "id": "2463bf92",
   "metadata": {},
   "source": [
    "#### Low-Lift Version/Basic Student Version"
   ]
  },
  {
   "cell_type": "code",
   "execution_count": 4,
   "id": "448e7352",
   "metadata": {},
   "outputs": [],
   "source": [
    "# df_2000 = pd.read_csv('Data/final_tmdb_data_2000.csv.gz')\n",
    "\n",
    "# df_2001 = pd.read_csv('Data/final_tmdb_data_2001.csv.gz')"
   ]
  },
  {
   "cell_type": "code",
   "execution_count": 5,
   "id": "9f731409",
   "metadata": {},
   "outputs": [
    {
     "data": {
      "text/html": [
       "<div>\n",
       "<style scoped>\n",
       "    .dataframe tbody tr th:only-of-type {\n",
       "        vertical-align: middle;\n",
       "    }\n",
       "\n",
       "    .dataframe tbody tr th {\n",
       "        vertical-align: top;\n",
       "    }\n",
       "\n",
       "    .dataframe thead th {\n",
       "        text-align: right;\n",
       "    }\n",
       "</style>\n",
       "<table border=\"1\" class=\"dataframe\">\n",
       "  <thead>\n",
       "    <tr style=\"text-align: right;\">\n",
       "      <th></th>\n",
       "      <th>imdb_id</th>\n",
       "      <th>adult</th>\n",
       "      <th>backdrop_path</th>\n",
       "      <th>belongs_to_collection</th>\n",
       "      <th>budget</th>\n",
       "      <th>genres</th>\n",
       "      <th>homepage</th>\n",
       "      <th>id</th>\n",
       "      <th>original_language</th>\n",
       "      <th>original_title</th>\n",
       "      <th>...</th>\n",
       "      <th>revenue</th>\n",
       "      <th>runtime</th>\n",
       "      <th>spoken_languages</th>\n",
       "      <th>status</th>\n",
       "      <th>tagline</th>\n",
       "      <th>title</th>\n",
       "      <th>video</th>\n",
       "      <th>vote_average</th>\n",
       "      <th>vote_count</th>\n",
       "      <th>certification</th>\n",
       "    </tr>\n",
       "  </thead>\n",
       "  <tbody>\n",
       "    <tr>\n",
       "      <th>0</th>\n",
       "      <td>0</td>\n",
       "      <td>NaN</td>\n",
       "      <td>NaN</td>\n",
       "      <td>NaN</td>\n",
       "      <td>NaN</td>\n",
       "      <td>NaN</td>\n",
       "      <td>NaN</td>\n",
       "      <td>NaN</td>\n",
       "      <td>NaN</td>\n",
       "      <td>NaN</td>\n",
       "      <td>...</td>\n",
       "      <td>NaN</td>\n",
       "      <td>NaN</td>\n",
       "      <td>NaN</td>\n",
       "      <td>NaN</td>\n",
       "      <td>NaN</td>\n",
       "      <td>NaN</td>\n",
       "      <td>NaN</td>\n",
       "      <td>NaN</td>\n",
       "      <td>NaN</td>\n",
       "      <td>NaN</td>\n",
       "    </tr>\n",
       "    <tr>\n",
       "      <th>1</th>\n",
       "      <td>tt0113026</td>\n",
       "      <td>0.0</td>\n",
       "      <td>/vMFs7nw6P0bIV1jDsQpxAieAVnH.jpg</td>\n",
       "      <td>NaN</td>\n",
       "      <td>10000000.0</td>\n",
       "      <td>[{'id': 35, 'name': 'Comedy'}, {'id': 10402, '...</td>\n",
       "      <td>NaN</td>\n",
       "      <td>62127.0</td>\n",
       "      <td>en</td>\n",
       "      <td>The Fantasticks</td>\n",
       "      <td>...</td>\n",
       "      <td>0.0</td>\n",
       "      <td>86.0</td>\n",
       "      <td>[{'english_name': 'English', 'iso_639_1': 'en'...</td>\n",
       "      <td>Released</td>\n",
       "      <td>Try to remember the first time magic happened</td>\n",
       "      <td>The Fantasticks</td>\n",
       "      <td>0.0</td>\n",
       "      <td>5.4</td>\n",
       "      <td>21.0</td>\n",
       "      <td>NaN</td>\n",
       "    </tr>\n",
       "    <tr>\n",
       "      <th>2</th>\n",
       "      <td>tt0113092</td>\n",
       "      <td>0.0</td>\n",
       "      <td>NaN</td>\n",
       "      <td>NaN</td>\n",
       "      <td>0.0</td>\n",
       "      <td>[{'id': 878, 'name': 'Science Fiction'}]</td>\n",
       "      <td>NaN</td>\n",
       "      <td>110977.0</td>\n",
       "      <td>en</td>\n",
       "      <td>For the Cause</td>\n",
       "      <td>...</td>\n",
       "      <td>0.0</td>\n",
       "      <td>100.0</td>\n",
       "      <td>[{'english_name': 'English', 'iso_639_1': 'en'...</td>\n",
       "      <td>Released</td>\n",
       "      <td>The ultimate showdown on a forbidden planet.</td>\n",
       "      <td>For the Cause</td>\n",
       "      <td>0.0</td>\n",
       "      <td>4.4</td>\n",
       "      <td>7.0</td>\n",
       "      <td>NaN</td>\n",
       "    </tr>\n",
       "    <tr>\n",
       "      <th>3</th>\n",
       "      <td>tt0116391</td>\n",
       "      <td>0.0</td>\n",
       "      <td>NaN</td>\n",
       "      <td>NaN</td>\n",
       "      <td>0.0</td>\n",
       "      <td>[{'id': 18, 'name': 'Drama'}, {'id': 28, 'name...</td>\n",
       "      <td>NaN</td>\n",
       "      <td>442869.0</td>\n",
       "      <td>hi</td>\n",
       "      <td>Gang</td>\n",
       "      <td>...</td>\n",
       "      <td>0.0</td>\n",
       "      <td>152.0</td>\n",
       "      <td>[{'english_name': 'Hindi', 'iso_639_1': 'hi', ...</td>\n",
       "      <td>Released</td>\n",
       "      <td>NaN</td>\n",
       "      <td>Gang</td>\n",
       "      <td>0.0</td>\n",
       "      <td>0.0</td>\n",
       "      <td>0.0</td>\n",
       "      <td>NaN</td>\n",
       "    </tr>\n",
       "    <tr>\n",
       "      <th>4</th>\n",
       "      <td>tt0118694</td>\n",
       "      <td>0.0</td>\n",
       "      <td>/n4GJFGzsc7NinI1VeGDXIcQjtU2.jpg</td>\n",
       "      <td>NaN</td>\n",
       "      <td>150000.0</td>\n",
       "      <td>[{'id': 18, 'name': 'Drama'}, {'id': 10749, 'n...</td>\n",
       "      <td>http://www.wkw-inthemoodforlove.com/</td>\n",
       "      <td>843.0</td>\n",
       "      <td>cn</td>\n",
       "      <td>花樣年華</td>\n",
       "      <td>...</td>\n",
       "      <td>12854953.0</td>\n",
       "      <td>99.0</td>\n",
       "      <td>[{'english_name': 'Cantonese', 'iso_639_1': 'c...</td>\n",
       "      <td>Released</td>\n",
       "      <td>Feel the heat, keep the feeling burning, let t...</td>\n",
       "      <td>In the Mood for Love</td>\n",
       "      <td>0.0</td>\n",
       "      <td>8.1</td>\n",
       "      <td>1868.0</td>\n",
       "      <td>PG</td>\n",
       "    </tr>\n",
       "    <tr>\n",
       "      <th>...</th>\n",
       "      <td>...</td>\n",
       "      <td>...</td>\n",
       "      <td>...</td>\n",
       "      <td>...</td>\n",
       "      <td>...</td>\n",
       "      <td>...</td>\n",
       "      <td>...</td>\n",
       "      <td>...</td>\n",
       "      <td>...</td>\n",
       "      <td>...</td>\n",
       "      <td>...</td>\n",
       "      <td>...</td>\n",
       "      <td>...</td>\n",
       "      <td>...</td>\n",
       "      <td>...</td>\n",
       "      <td>...</td>\n",
       "      <td>...</td>\n",
       "      <td>...</td>\n",
       "      <td>...</td>\n",
       "      <td>...</td>\n",
       "      <td>...</td>\n",
       "    </tr>\n",
       "    <tr>\n",
       "      <th>3528</th>\n",
       "      <td>tt9895024</td>\n",
       "      <td>0.0</td>\n",
       "      <td>/S1kutYyoyuBJKGS0mXxv2fZNbr.jpg</td>\n",
       "      <td>NaN</td>\n",
       "      <td>0.0</td>\n",
       "      <td>[{'id': 18, 'name': 'Drama'}, {'id': 35, 'name...</td>\n",
       "      <td>NaN</td>\n",
       "      <td>834443.0</td>\n",
       "      <td>de</td>\n",
       "      <td>Heikos Welt</td>\n",
       "      <td>...</td>\n",
       "      <td>0.0</td>\n",
       "      <td>118.0</td>\n",
       "      <td>[{'english_name': 'German', 'iso_639_1': 'de',...</td>\n",
       "      <td>Released</td>\n",
       "      <td>NaN</td>\n",
       "      <td>Heiko's World</td>\n",
       "      <td>0.0</td>\n",
       "      <td>0.0</td>\n",
       "      <td>0.0</td>\n",
       "      <td>NaN</td>\n",
       "    </tr>\n",
       "    <tr>\n",
       "      <th>3529</th>\n",
       "      <td>tt9896876</td>\n",
       "      <td>0.0</td>\n",
       "      <td>/hMvRbT6HOqERhh3K8kXbaLz9LlZ.jpg</td>\n",
       "      <td>NaN</td>\n",
       "      <td>0.0</td>\n",
       "      <td>[{'id': 35, 'name': 'Comedy'}, {'id': 18, 'nam...</td>\n",
       "      <td>NaN</td>\n",
       "      <td>821493.0</td>\n",
       "      <td>en</td>\n",
       "      <td>India Sweets and Spices</td>\n",
       "      <td>...</td>\n",
       "      <td>0.0</td>\n",
       "      <td>101.0</td>\n",
       "      <td>[{'english_name': 'English', 'iso_639_1': 'en'...</td>\n",
       "      <td>Released</td>\n",
       "      <td>Let the aunties talk.</td>\n",
       "      <td>India Sweets and Spices</td>\n",
       "      <td>0.0</td>\n",
       "      <td>6.0</td>\n",
       "      <td>2.0</td>\n",
       "      <td>PG-13</td>\n",
       "    </tr>\n",
       "    <tr>\n",
       "      <th>3530</th>\n",
       "      <td>tt9898844</td>\n",
       "      <td>0.0</td>\n",
       "      <td>/q2KFBGyUSzHDhNqXEYv2LqTWVSz.jpg</td>\n",
       "      <td>NaN</td>\n",
       "      <td>0.0</td>\n",
       "      <td>[{'id': 27, 'name': 'Horror'}]</td>\n",
       "      <td>NaN</td>\n",
       "      <td>870671.0</td>\n",
       "      <td>en</td>\n",
       "      <td>The Hunting</td>\n",
       "      <td>...</td>\n",
       "      <td>0.0</td>\n",
       "      <td>91.0</td>\n",
       "      <td>[{'english_name': 'English', 'iso_639_1': 'en'...</td>\n",
       "      <td>Released</td>\n",
       "      <td>Hunger runs deep.</td>\n",
       "      <td>The Hunting</td>\n",
       "      <td>0.0</td>\n",
       "      <td>4.9</td>\n",
       "      <td>20.0</td>\n",
       "      <td>NaN</td>\n",
       "    </tr>\n",
       "    <tr>\n",
       "      <th>3531</th>\n",
       "      <td>tt9900940</td>\n",
       "      <td>0.0</td>\n",
       "      <td>/3jjWLg5bevWqReyVroYqxwVrH0k.jpg</td>\n",
       "      <td>NaN</td>\n",
       "      <td>0.0</td>\n",
       "      <td>[{'id': 80, 'name': 'Crime'}, {'id': 18, 'name...</td>\n",
       "      <td>NaN</td>\n",
       "      <td>861294.0</td>\n",
       "      <td>en</td>\n",
       "      <td>The Scrapper</td>\n",
       "      <td>...</td>\n",
       "      <td>0.0</td>\n",
       "      <td>87.0</td>\n",
       "      <td>[{'english_name': 'English', 'iso_639_1': 'en'...</td>\n",
       "      <td>Released</td>\n",
       "      <td>You can't escape your past.</td>\n",
       "      <td>The Scrapper</td>\n",
       "      <td>0.0</td>\n",
       "      <td>6.0</td>\n",
       "      <td>2.0</td>\n",
       "      <td>NaN</td>\n",
       "    </tr>\n",
       "    <tr>\n",
       "      <th>3532</th>\n",
       "      <td>tt9907782</td>\n",
       "      <td>0.0</td>\n",
       "      <td>/gRTYArznK1MLAq7opC1tYHnTwM3.jpg</td>\n",
       "      <td>NaN</td>\n",
       "      <td>0.0</td>\n",
       "      <td>[{'id': 27, 'name': 'Horror'}, {'id': 14, 'nam...</td>\n",
       "      <td>NaN</td>\n",
       "      <td>630392.0</td>\n",
       "      <td>en</td>\n",
       "      <td>The Cursed</td>\n",
       "      <td>...</td>\n",
       "      <td>4588389.0</td>\n",
       "      <td>111.0</td>\n",
       "      <td>[{'english_name': 'English', 'iso_639_1': 'en'...</td>\n",
       "      <td>Released</td>\n",
       "      <td>NaN</td>\n",
       "      <td>The Cursed</td>\n",
       "      <td>0.0</td>\n",
       "      <td>7.0</td>\n",
       "      <td>55.0</td>\n",
       "      <td>R</td>\n",
       "    </tr>\n",
       "  </tbody>\n",
       "</table>\n",
       "<p>60152 rows × 26 columns</p>\n",
       "</div>"
      ],
      "text/plain": [
       "        imdb_id  adult                     backdrop_path  \\\n",
       "0             0    NaN                               NaN   \n",
       "1     tt0113026    0.0  /vMFs7nw6P0bIV1jDsQpxAieAVnH.jpg   \n",
       "2     tt0113092    0.0                               NaN   \n",
       "3     tt0116391    0.0                               NaN   \n",
       "4     tt0118694    0.0  /n4GJFGzsc7NinI1VeGDXIcQjtU2.jpg   \n",
       "...         ...    ...                               ...   \n",
       "3528  tt9895024    0.0   /S1kutYyoyuBJKGS0mXxv2fZNbr.jpg   \n",
       "3529  tt9896876    0.0  /hMvRbT6HOqERhh3K8kXbaLz9LlZ.jpg   \n",
       "3530  tt9898844    0.0  /q2KFBGyUSzHDhNqXEYv2LqTWVSz.jpg   \n",
       "3531  tt9900940    0.0  /3jjWLg5bevWqReyVroYqxwVrH0k.jpg   \n",
       "3532  tt9907782    0.0  /gRTYArznK1MLAq7opC1tYHnTwM3.jpg   \n",
       "\n",
       "     belongs_to_collection      budget  \\\n",
       "0                      NaN         NaN   \n",
       "1                      NaN  10000000.0   \n",
       "2                      NaN         0.0   \n",
       "3                      NaN         0.0   \n",
       "4                      NaN    150000.0   \n",
       "...                    ...         ...   \n",
       "3528                   NaN         0.0   \n",
       "3529                   NaN         0.0   \n",
       "3530                   NaN         0.0   \n",
       "3531                   NaN         0.0   \n",
       "3532                   NaN         0.0   \n",
       "\n",
       "                                                 genres  \\\n",
       "0                                                   NaN   \n",
       "1     [{'id': 35, 'name': 'Comedy'}, {'id': 10402, '...   \n",
       "2              [{'id': 878, 'name': 'Science Fiction'}]   \n",
       "3     [{'id': 18, 'name': 'Drama'}, {'id': 28, 'name...   \n",
       "4     [{'id': 18, 'name': 'Drama'}, {'id': 10749, 'n...   \n",
       "...                                                 ...   \n",
       "3528  [{'id': 18, 'name': 'Drama'}, {'id': 35, 'name...   \n",
       "3529  [{'id': 35, 'name': 'Comedy'}, {'id': 18, 'nam...   \n",
       "3530                     [{'id': 27, 'name': 'Horror'}]   \n",
       "3531  [{'id': 80, 'name': 'Crime'}, {'id': 18, 'name...   \n",
       "3532  [{'id': 27, 'name': 'Horror'}, {'id': 14, 'nam...   \n",
       "\n",
       "                                  homepage        id original_language  \\\n",
       "0                                      NaN       NaN               NaN   \n",
       "1                                      NaN   62127.0                en   \n",
       "2                                      NaN  110977.0                en   \n",
       "3                                      NaN  442869.0                hi   \n",
       "4     http://www.wkw-inthemoodforlove.com/     843.0                cn   \n",
       "...                                    ...       ...               ...   \n",
       "3528                                   NaN  834443.0                de   \n",
       "3529                                   NaN  821493.0                en   \n",
       "3530                                   NaN  870671.0                en   \n",
       "3531                                   NaN  861294.0                en   \n",
       "3532                                   NaN  630392.0                en   \n",
       "\n",
       "               original_title  ...     revenue  runtime  \\\n",
       "0                         NaN  ...         NaN      NaN   \n",
       "1             The Fantasticks  ...         0.0     86.0   \n",
       "2               For the Cause  ...         0.0    100.0   \n",
       "3                        Gang  ...         0.0    152.0   \n",
       "4                        花樣年華  ...  12854953.0     99.0   \n",
       "...                       ...  ...         ...      ...   \n",
       "3528              Heikos Welt  ...         0.0    118.0   \n",
       "3529  India Sweets and Spices  ...         0.0    101.0   \n",
       "3530              The Hunting  ...         0.0     91.0   \n",
       "3531             The Scrapper  ...         0.0     87.0   \n",
       "3532               The Cursed  ...   4588389.0    111.0   \n",
       "\n",
       "                                       spoken_languages    status  \\\n",
       "0                                                   NaN       NaN   \n",
       "1     [{'english_name': 'English', 'iso_639_1': 'en'...  Released   \n",
       "2     [{'english_name': 'English', 'iso_639_1': 'en'...  Released   \n",
       "3     [{'english_name': 'Hindi', 'iso_639_1': 'hi', ...  Released   \n",
       "4     [{'english_name': 'Cantonese', 'iso_639_1': 'c...  Released   \n",
       "...                                                 ...       ...   \n",
       "3528  [{'english_name': 'German', 'iso_639_1': 'de',...  Released   \n",
       "3529  [{'english_name': 'English', 'iso_639_1': 'en'...  Released   \n",
       "3530  [{'english_name': 'English', 'iso_639_1': 'en'...  Released   \n",
       "3531  [{'english_name': 'English', 'iso_639_1': 'en'...  Released   \n",
       "3532  [{'english_name': 'English', 'iso_639_1': 'en'...  Released   \n",
       "\n",
       "                                                tagline  \\\n",
       "0                                                   NaN   \n",
       "1         Try to remember the first time magic happened   \n",
       "2          The ultimate showdown on a forbidden planet.   \n",
       "3                                                   NaN   \n",
       "4     Feel the heat, keep the feeling burning, let t...   \n",
       "...                                                 ...   \n",
       "3528                                                NaN   \n",
       "3529                              Let the aunties talk.   \n",
       "3530                                  Hunger runs deep.   \n",
       "3531                        You can't escape your past.   \n",
       "3532                                                NaN   \n",
       "\n",
       "                        title  video  vote_average vote_count certification  \n",
       "0                         NaN    NaN           NaN        NaN           NaN  \n",
       "1             The Fantasticks    0.0           5.4       21.0           NaN  \n",
       "2               For the Cause    0.0           4.4        7.0           NaN  \n",
       "3                        Gang    0.0           0.0        0.0           NaN  \n",
       "4        In the Mood for Love    0.0           8.1     1868.0            PG  \n",
       "...                       ...    ...           ...        ...           ...  \n",
       "3528            Heiko's World    0.0           0.0        0.0           NaN  \n",
       "3529  India Sweets and Spices    0.0           6.0        2.0         PG-13  \n",
       "3530              The Hunting    0.0           4.9       20.0           NaN  \n",
       "3531             The Scrapper    0.0           6.0        2.0           NaN  \n",
       "3532               The Cursed    0.0           7.0       55.0             R  \n",
       "\n",
       "[60152 rows x 26 columns]"
      ]
     },
     "execution_count": 5,
     "metadata": {},
     "output_type": "execute_result"
    }
   ],
   "source": [
    "df = pd.concat([pd.read_csv(f, lineterminator='\\n') for f in files] )\n",
    "df"
   ]
  },
  {
   "cell_type": "markdown",
   "id": "5a3e4a07",
   "metadata": {},
   "source": [
    "## How many movies had at least some valid financial information (values > 0 for budget OR revenue)?"
   ]
  },
  {
   "cell_type": "markdown",
   "id": "6030f975",
   "metadata": {},
   "source": [
    "- Several ways students could do this either with pandas or with visualizations."
   ]
  },
  {
   "cell_type": "code",
   "execution_count": 6,
   "id": "8aa12b51",
   "metadata": {},
   "outputs": [
    {
     "data": {
      "text/plain": [
       "False    46748\n",
       "True     13404\n",
       "dtype: int64"
      ]
     },
     "execution_count": 6,
     "metadata": {},
     "output_type": "execute_result"
    }
   ],
   "source": [
    "filter_financial = (df['budget'] > 0) | (df['revenue']>0)\n",
    "filter_financial.value_counts()"
   ]
  },
  {
   "cell_type": "code",
   "execution_count": 7,
   "id": "245a291d",
   "metadata": {},
   "outputs": [
    {
     "data": {
      "text/plain": [
       "Text(0.5, 1.0, '# of Movies with Valid Financial Data')"
      ]
     },
     "execution_count": 7,
     "metadata": {},
     "output_type": "execute_result"
    },
    {
     "data": {
      "image/png": "[encoded data removed]",
      "text/plain": [
       "<Figure size 432x288 with 1 Axes>"
      ]
     },
     "metadata": {
      "needs_background": "light"
     },
     "output_type": "display_data"
    }
   ],
   "source": [
    "ax = sns.countplot(x=filter_financial)\n",
    "ax.set_title('# of Movies with Valid Financial Data')"
   ]
  },
  {
   "cell_type": "markdown",
   "id": "43ac035e",
   "metadata": {},
   "source": [
    "### Please exclude any movies with 0's for budget AND revenue from the remaining visualizations."
   ]
  },
  {
   "cell_type": "code",
   "execution_count": 8,
   "id": "1aaf40dd",
   "metadata": {},
   "outputs": [],
   "source": [
    "plot_df = df[filter_financial].copy()\n"
   ]
  },
  {
   "cell_type": "markdown",
   "id": "e65bde6a",
   "metadata": {},
   "source": [
    "## How many movies are there in each of the certification categories (G/PG/PG-13/R)?"
   ]
  },
  {
   "cell_type": "code",
   "execution_count": 9,
   "id": "98885db6",
   "metadata": {},
   "outputs": [],
   "source": [
    "## to order them (optional)\n",
    "cert_order = ['G','PG','PG-13','R','NR']#,'NC-17']"
   ]
  },
  {
   "cell_type": "code",
   "execution_count": 10,
   "id": "8b0f1b1c",
   "metadata": {},
   "outputs": [
    {
     "data": {
      "image/png": "[encoded data removed]",
      "text/plain": [
       "<Figure size 432x288 with 1 Axes>"
      ]
     },
     "metadata": {
      "needs_background": "light"
     },
     "output_type": "display_data"
    }
   ],
   "source": [
    "sns.countplot(data=plot_df, x='certification',order=cert_order);"
   ]
  },
  {
   "cell_type": "markdown",
   "id": "4ed07330",
   "metadata": {},
   "source": [
    "## What is the average revenue per certification category?"
   ]
  },
  {
   "cell_type": "code",
   "execution_count": 11,
   "id": "a1d4a0f2",
   "metadata": {},
   "outputs": [
    {
     "data": {
      "image/png": "[encoded data removed]",
      "text/plain": [
       "<Figure size 432x288 with 1 Axes>"
      ]
     },
     "metadata": {
      "needs_background": "light"
     },
     "output_type": "display_data"
    }
   ],
   "source": [
    "sns.barplot(data=plot_df, x='certification',y='revenue', order=cert_order);"
   ]
  },
  {
   "cell_type": "markdown",
   "id": "3a52dcbc",
   "metadata": {},
   "source": [
    "## What is the average budget per certification category?"
   ]
  },
  {
   "cell_type": "code",
   "execution_count": 12,
   "id": "70f7146a",
   "metadata": {},
   "outputs": [
    {
     "data": {
      "image/png": "[encoded data removed]",
      "text/plain": [
       "<Figure size 432x288 with 1 Axes>"
      ]
     },
     "metadata": {
      "needs_background": "light"
     },
     "output_type": "display_data"
    }
   ],
   "source": [
    "sns.barplot(data=plot_df, x='certification',y='budget', order=cert_order);"
   ]
  }
 ],
 "metadata": {
  "kernelspec": {
   "display_name": "Python (dojo-env)",
   "language": "python",
   "name": "dojo-env"
  },
  "language_info": {
   "codemirror_mode": {
    "name": "ipython",
    "version": 3
   },
   "file_extension": ".py",
   "mimetype": "text/x-python",
   "name": "python",
   "nbconvert_exporter": "python",
   "pygments_lexer": "ipython3",
   "version": "3.8.13"
  },
  "toc": {
   "base_numbering": 1,
   "nav_menu": {},
   "number_sections": false,
   "sideBar": true,
   "skip_h1_title": false,
   "title_cell": "Table of Contents",
   "title_sidebar": "Contents",
   "toc_cell": false,
   "toc_position": {},
   "toc_section_display": true,
   "toc_window_display": false
  }
 },
 "nbformat": 4,
 "nbformat_minor": 5
}
