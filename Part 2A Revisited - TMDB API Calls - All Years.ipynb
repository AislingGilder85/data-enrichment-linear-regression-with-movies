{
 "cells": [
  {
   "cell_type": "markdown",
   "id": "393a81cd",
   "metadata": {},
   "source": [
    "# Project 3 - Part 2 Extract from TMDB (Core)"
   ]
  },
  {
   "cell_type": "markdown",
   "id": "0f5a2de8",
   "metadata": {},
   "source": [
    "## LP LINKS: \n",
    "- 📄 Assignment: https://login.codingdojo.com/m/376/12529/88084\n",
    "- 📚 Lessons containing code used:\n",
    "    - Lesson # 1: https://login.codingdojo.com/m/376/12529/88081\n",
    "    - Lesson # 2: https://login.codingdojo.com/m/376/12529/88082 \n",
    "\n",
    "- 🎥 VIDEO: GETTING STARTED: https://www.youtube.com/watch?v=uD_HeaC_lF0"
   ]
  },
  {
   "cell_type": "markdown",
   "id": "ab529cd2",
   "metadata": {},
   "source": [
    "><h1>Business Problem</h1>\n",
    "<blockquote>\n",
    "For this project, you have been hired to produce a MySQL database on Movies from a subset of IMDB's publicly available dataset. Ultimately, you will use this database to analyze what makes a movie successful, and will provide recommendations to the stakeholder on how to make a successful movie.<br>\n",
    "</blockquote>\n",
    "<figure class=\"text-center\"><img src=\"https://s3.us-east-1.amazonaws.com/General_V88/boomyeah2015/codingdojo/curriculum/content/chapter/1648747355__theatre-background.jpeg\" style=\"width: 613px; height: 332px;\" width=\"613\" height=\"332\"></figure><p class=\"text-center\"><br></p>\n",
    "<p class=\"text-center\"><a href=\"&quot;https://thesenatortheatre.com/wp-content/themes/senatortheatre/images_opt/theatre-background-color.jpg&quot;\" target=\"_blank\">Image Source</a></p>\n",
    "<h2>Your Stakeholder Wants More Data!</h2>\n",
    "<ul>\n",
    "<li>\n",
    "<p>After investigating the preview of your data from  Part 1, your stakeholder realized that there is no financial information included in the IMDB data (e.g. budget or revenue).</p>\n",
    "<ul>\n",
    "<li>This will be a major roadblock when attempting to analyze which movies are successful and must be addressed before you will be able to determine which movies are successful.</li>\n",
    "</ul>\n",
    "</li>\n",
    "<li>\n",
    "<p>Your stakeholder identified The Movie Database (TMDB) as a great source of financial data (<a href=\"https://www.themoviedb.org/\" target=\"_blank\">https://www.themoviedb.org/</a>). Thankfully, TMDB offers a free API for programmatic access to their data!</p>\n",
    "</li>\n",
    "<li>\n",
    "<p><strong>Your stakeholder wants you to extract the budget, revenue, and MPAA Rating (G/PG/PG-13/R), which is also called \"Certification\".</strong></p>\n",
    "</li></ul><ul><li><strong>Note: this process can take a long time and may need to run overnight.</strong></li></ul>\n",
    "<h3>Specifications - Financial Data</h3>\n",
    "<ul>\n",
    "<li>\n",
    "<p>Your stakeholder would like you to extract and save the results for movies that meet all of the criteria established in part 1 of the project (You should already have a filtered dataframe saved from part one as a csv.gz file)</p></li><li><p>As a proof-of-concept, they requested you perform a test extraction of movies that started in 2000 or 2001</p></li><li><p>Each year should be saved as a separate .csv.gz file</p></li></ul><p><strong>Hint: Use the two custom functions from the lessons (Intro to TMDB API, and Efficient TMDB API Calls).&nbsp; Be sure to define these functions prior to calling them in your code!<br></strong></p><ul><li>One function will add the certification (MPGG Rating) to movie.info</li><li>The other function will help you append/extend a JSON file with Python</li></ul><p><span></span><strong>Hint: Ideally you can organize the code segments from the previous lesson to create an outer and inner loop, but if you get stuck, you can complete 1 year at at time.</strong></p><ul><li>Once you have retrieved and saved the final results to 2 separate .csv.gz files, move on to a new Exploratory Data Analysis notebook to explore the following questions.</li></ul><p><br></p><h4><b>Exploratory Data Analysis</b></h4>\n",
    "<ul><li>Load in your csv.gz's of results for each year extracted.<ol><li>Concatenate the data into 1 dataframe for the remainder of the analysis.</li></ol></li><li>Once you have your data from the API, they would like you to perform some light EDA to show:<ol><li>How many movies had at least some valid financial information (values &gt; 0 for budget OR revenue)?<ul><li>Please exclude any movies with 0's for budget AND revenue from the remaining visualizations.</li></ul></li><li>How many movies are there in each of the certification categories (G/PG/PG-13/R)?</li><li>What is the average revenue per certification category?</li><li>What is the average budget per certification category?</li></ol></li></ul>\n",
    "<p><br></p>\n",
    "<p>\n",
    "</p><h2>Deliverables</h2><p>After you have joined the tmdb results into 1 dataframe in the EDA Notebook,&nbsp;</p><ul><li>Save a final merged .csv.gz of all of the tmdb api data</li><li>The file name should be \"tmdb_results_combined.csv.gz\"</li><li>Make sure this is pushed to your github repository along with all of your code<ul><li>One code file for API calls</li><li>One code file for EDA</li></ul></li><li>Submit the link</li></ul><h1></h1>\n",
    "        \n",
    "        \n",
    "        \n",
    "        \n",
    "        \n",
    "        \n",
    "        \n",
    "        \n",
    "___"
   ]
  },
  {
   "cell_type": "markdown",
   "id": "b59f92aa",
   "metadata": {},
   "source": [
    "# Project 3 - Part 2 - API Calls - Solution\n",
    "James M. Irving"
   ]
  },
  {
   "cell_type": "code",
   "execution_count": 1,
   "id": "9219c87f",
   "metadata": {},
   "outputs": [],
   "source": [
    "# Install tmdbsimple (only need to run once)\n",
    "# !pip install tmdbsimple"
   ]
  },
  {
   "cell_type": "code",
   "execution_count": 2,
   "id": "d96ce7c4",
   "metadata": {},
   "outputs": [
    {
     "data": {
      "text/plain": [
       "dict_keys(['api-key'])"
      ]
     },
     "execution_count": 2,
     "metadata": {},
     "output_type": "execute_result"
    }
   ],
   "source": [
    "import json\n",
    "with open('/Users/codingdojo/.secret/tmdb_api.json', 'r') as f:\n",
    "    login = json.load(f)\n",
    "## Display the keys of the loaded dict\n",
    "login.keys()"
   ]
  },
  {
   "cell_type": "code",
   "execution_count": 3,
   "id": "75c1597e",
   "metadata": {},
   "outputs": [],
   "source": [
    "import tmdbsimple as tmdb\n",
    "tmdb.API_KEY =  login['api-key']"
   ]
  },
  {
   "cell_type": "code",
   "execution_count": 4,
   "id": "4adcd550",
   "metadata": {},
   "outputs": [
    {
     "data": {
      "text/plain": [
       "['final_tmdb_data_2006.csv.gz',\n",
       " 'tmdb_api_results_2010.json',\n",
       " 'final_tmdb_data_2014.csv.gz',\n",
       " 'tmdb_api_results_2006.json',\n",
       " 'title_basics_cleaned.csv.gz',\n",
       " '.DS_Store',\n",
       " 'final_tmdb_data_2008.csv.gz',\n",
       " 'final_tmdb_data_2016.csv.gz',\n",
       " 'final_tmdb_data_2004.csv.gz',\n",
       " 'tmdb_api_results_2007.json',\n",
       " 'tmdb_api_results_2011.json',\n",
       " 'title_ratings_cleaned.csv.gz',\n",
       " 'tmdb_api_results_2016.json',\n",
       " 'tmdb_api_results_2000.json',\n",
       " 'final_tmdb_data_2000.csv.gz',\n",
       " 'final_tmdb_data_2012.csv.gz',\n",
       " 'tmdb_api_results_2001.json',\n",
       " 'final_tmdb_data_2010.csv.gz',\n",
       " 'final_tmdb_data_2002.csv.gz',\n",
       " 'tmdb_api_results_2017.json',\n",
       " 'tmdb_api_results_2018.json',\n",
       " 'tmdb_api_results_2002.json',\n",
       " 'final_tmdb_data_2007.csv.gz',\n",
       " 'tmdb_api_results_2014.json',\n",
       " 'final_tmdb_data_2015.csv.gz',\n",
       " 'tmdb_api_results_2015.json',\n",
       " 'tmdb_api_results_2003.json',\n",
       " 'final_tmdb_data_2017.csv.gz',\n",
       " 'final_tmdb_data_2009.csv.gz',\n",
       " 'final_tmdb_data_2005.csv.gz',\n",
       " 'final_tmdb_data_2001.csv.gz',\n",
       " 'final_tmdb_data_2013.csv.gz',\n",
       " 'tmdb_api_results_2004.json',\n",
       " 'tmdb_api_results_2012.json',\n",
       " 'tmdb_api_results_2008.json',\n",
       " 'tmdb_api_results_2009.json',\n",
       " 'title_akas_cleaned.csv.gz',\n",
       " 'tmdb_api_results_2013.json',\n",
       " 'final_tmdb_data_2011.csv.gz',\n",
       " 'final_tmdb_data_2003.csv.gz',\n",
       " 'tmdb_api_results_2005.json']"
      ]
     },
     "execution_count": 4,
     "metadata": {},
     "output_type": "execute_result"
    }
   ],
   "source": [
    "import os\n",
    "import pandas as pd\n",
    "import time\n",
    "from tqdm.notebook import tqdm_notebook\n",
    "FOLDER = \"Data/\"\n",
    "os.makedirs(FOLDER, exist_ok=True)\n",
    "os.listdir(FOLDER)"
   ]
  },
  {
   "cell_type": "code",
   "execution_count": 5,
   "id": "7000224e",
   "metadata": {},
   "outputs": [
    {
     "data": {
      "text/html": [
       "<div>\n",
       "<style scoped>\n",
       "    .dataframe tbody tr th:only-of-type {\n",
       "        vertical-align: middle;\n",
       "    }\n",
       "\n",
       "    .dataframe tbody tr th {\n",
       "        vertical-align: top;\n",
       "    }\n",
       "\n",
       "    .dataframe thead th {\n",
       "        text-align: right;\n",
       "    }\n",
       "</style>\n",
       "<table border=\"1\" class=\"dataframe\">\n",
       "  <thead>\n",
       "    <tr style=\"text-align: right;\">\n",
       "      <th></th>\n",
       "      <th>tconst</th>\n",
       "      <th>titleType</th>\n",
       "      <th>primaryTitle</th>\n",
       "      <th>originalTitle</th>\n",
       "      <th>isAdult</th>\n",
       "      <th>startYear</th>\n",
       "      <th>endYear</th>\n",
       "      <th>runtimeMinutes</th>\n",
       "      <th>genres</th>\n",
       "    </tr>\n",
       "  </thead>\n",
       "  <tbody>\n",
       "    <tr>\n",
       "      <th>0</th>\n",
       "      <td>tt0035423</td>\n",
       "      <td>movie</td>\n",
       "      <td>Kate &amp; Leopold</td>\n",
       "      <td>Kate &amp; Leopold</td>\n",
       "      <td>0</td>\n",
       "      <td>2001.0</td>\n",
       "      <td>NaN</td>\n",
       "      <td>118</td>\n",
       "      <td>Comedy,Fantasy,Romance</td>\n",
       "    </tr>\n",
       "    <tr>\n",
       "      <th>1</th>\n",
       "      <td>tt0062336</td>\n",
       "      <td>movie</td>\n",
       "      <td>The Tango of the Widower and Its Distorting Mi...</td>\n",
       "      <td>El Tango del Viudo y Su Espejo Deformante</td>\n",
       "      <td>0</td>\n",
       "      <td>2020.0</td>\n",
       "      <td>NaN</td>\n",
       "      <td>70</td>\n",
       "      <td>Drama</td>\n",
       "    </tr>\n",
       "    <tr>\n",
       "      <th>2</th>\n",
       "      <td>tt0069049</td>\n",
       "      <td>movie</td>\n",
       "      <td>The Other Side of the Wind</td>\n",
       "      <td>The Other Side of the Wind</td>\n",
       "      <td>0</td>\n",
       "      <td>2018.0</td>\n",
       "      <td>NaN</td>\n",
       "      <td>122</td>\n",
       "      <td>Drama</td>\n",
       "    </tr>\n",
       "    <tr>\n",
       "      <th>3</th>\n",
       "      <td>tt0088751</td>\n",
       "      <td>movie</td>\n",
       "      <td>The Naked Monster</td>\n",
       "      <td>The Naked Monster</td>\n",
       "      <td>0</td>\n",
       "      <td>2005.0</td>\n",
       "      <td>NaN</td>\n",
       "      <td>100</td>\n",
       "      <td>Comedy,Horror,Sci-Fi</td>\n",
       "    </tr>\n",
       "    <tr>\n",
       "      <th>4</th>\n",
       "      <td>tt0093119</td>\n",
       "      <td>movie</td>\n",
       "      <td>Grizzly II: Revenge</td>\n",
       "      <td>Grizzly II: The Predator</td>\n",
       "      <td>0</td>\n",
       "      <td>2020.0</td>\n",
       "      <td>NaN</td>\n",
       "      <td>74</td>\n",
       "      <td>Horror,Music,Thriller</td>\n",
       "    </tr>\n",
       "    <tr>\n",
       "      <th>...</th>\n",
       "      <td>...</td>\n",
       "      <td>...</td>\n",
       "      <td>...</td>\n",
       "      <td>...</td>\n",
       "      <td>...</td>\n",
       "      <td>...</td>\n",
       "      <td>...</td>\n",
       "      <td>...</td>\n",
       "      <td>...</td>\n",
       "    </tr>\n",
       "    <tr>\n",
       "      <th>79243</th>\n",
       "      <td>tt9914942</td>\n",
       "      <td>movie</td>\n",
       "      <td>Life Without Sara Amat</td>\n",
       "      <td>La vida sense la Sara Amat</td>\n",
       "      <td>0</td>\n",
       "      <td>2019.0</td>\n",
       "      <td>NaN</td>\n",
       "      <td>74</td>\n",
       "      <td>Drama</td>\n",
       "    </tr>\n",
       "    <tr>\n",
       "      <th>79244</th>\n",
       "      <td>tt9915872</td>\n",
       "      <td>movie</td>\n",
       "      <td>The Last White Witch</td>\n",
       "      <td>My Girlfriend is a Wizard</td>\n",
       "      <td>0</td>\n",
       "      <td>2019.0</td>\n",
       "      <td>NaN</td>\n",
       "      <td>97</td>\n",
       "      <td>Comedy,Drama,Fantasy</td>\n",
       "    </tr>\n",
       "    <tr>\n",
       "      <th>79245</th>\n",
       "      <td>tt9916170</td>\n",
       "      <td>movie</td>\n",
       "      <td>The Rehearsal</td>\n",
       "      <td>O Ensaio</td>\n",
       "      <td>0</td>\n",
       "      <td>2019.0</td>\n",
       "      <td>NaN</td>\n",
       "      <td>51</td>\n",
       "      <td>Drama</td>\n",
       "    </tr>\n",
       "    <tr>\n",
       "      <th>79246</th>\n",
       "      <td>tt9916190</td>\n",
       "      <td>movie</td>\n",
       "      <td>Safeguard</td>\n",
       "      <td>Safeguard</td>\n",
       "      <td>0</td>\n",
       "      <td>2020.0</td>\n",
       "      <td>NaN</td>\n",
       "      <td>90</td>\n",
       "      <td>Action,Adventure,Thriller</td>\n",
       "    </tr>\n",
       "    <tr>\n",
       "      <th>79247</th>\n",
       "      <td>tt9916362</td>\n",
       "      <td>movie</td>\n",
       "      <td>Coven</td>\n",
       "      <td>Akelarre</td>\n",
       "      <td>0</td>\n",
       "      <td>2020.0</td>\n",
       "      <td>NaN</td>\n",
       "      <td>92</td>\n",
       "      <td>Drama,History</td>\n",
       "    </tr>\n",
       "  </tbody>\n",
       "</table>\n",
       "<p>79248 rows × 9 columns</p>\n",
       "</div>"
      ],
      "text/plain": [
       "          tconst titleType                                       primaryTitle  \\\n",
       "0      tt0035423     movie                                     Kate & Leopold   \n",
       "1      tt0062336     movie  The Tango of the Widower and Its Distorting Mi...   \n",
       "2      tt0069049     movie                         The Other Side of the Wind   \n",
       "3      tt0088751     movie                                  The Naked Monster   \n",
       "4      tt0093119     movie                                Grizzly II: Revenge   \n",
       "...          ...       ...                                                ...   \n",
       "79243  tt9914942     movie                             Life Without Sara Amat   \n",
       "79244  tt9915872     movie                               The Last White Witch   \n",
       "79245  tt9916170     movie                                      The Rehearsal   \n",
       "79246  tt9916190     movie                                          Safeguard   \n",
       "79247  tt9916362     movie                                              Coven   \n",
       "\n",
       "                                   originalTitle  isAdult  startYear  endYear  \\\n",
       "0                                 Kate & Leopold        0     2001.0      NaN   \n",
       "1      El Tango del Viudo y Su Espejo Deformante        0     2020.0      NaN   \n",
       "2                     The Other Side of the Wind        0     2018.0      NaN   \n",
       "3                              The Naked Monster        0     2005.0      NaN   \n",
       "4                       Grizzly II: The Predator        0     2020.0      NaN   \n",
       "...                                          ...      ...        ...      ...   \n",
       "79243                 La vida sense la Sara Amat        0     2019.0      NaN   \n",
       "79244                  My Girlfriend is a Wizard        0     2019.0      NaN   \n",
       "79245                                   O Ensaio        0     2019.0      NaN   \n",
       "79246                                  Safeguard        0     2020.0      NaN   \n",
       "79247                                   Akelarre        0     2020.0      NaN   \n",
       "\n",
       "       runtimeMinutes                     genres  \n",
       "0                 118     Comedy,Fantasy,Romance  \n",
       "1                  70                      Drama  \n",
       "2                 122                      Drama  \n",
       "3                 100       Comedy,Horror,Sci-Fi  \n",
       "4                  74      Horror,Music,Thriller  \n",
       "...               ...                        ...  \n",
       "79243              74                      Drama  \n",
       "79244              97       Comedy,Drama,Fantasy  \n",
       "79245              51                      Drama  \n",
       "79246              90  Action,Adventure,Thriller  \n",
       "79247              92              Drama,History  \n",
       "\n",
       "[79248 rows x 9 columns]"
      ]
     },
     "execution_count": 5,
     "metadata": {},
     "output_type": "execute_result"
    }
   ],
   "source": [
    "# Load in the dataframe from project part 1 as basics:\n",
    "basics = pd.read_csv('Data/title_basics_cleaned.csv.gz')\n",
    "basics\n"
   ]
  },
  {
   "cell_type": "code",
   "execution_count": 6,
   "id": "b21e3fff",
   "metadata": {},
   "outputs": [],
   "source": [
    "def get_movie_with_rating(movie_id):\n",
    "    # Get the movie object for the current id\n",
    "    movie = tmdb.Movies(movie_id)\n",
    "    # save the .info .releases dictionaries\n",
    "    movie_info = movie.info()\n",
    "    releases = movie.releases()\n",
    "    # Loop through countries in releases\n",
    "    for c in releases['countries']:\n",
    "        # if the country abbreviation==US\n",
    "        if c['iso_3166_1' ] =='US':\n",
    "            ## save a \"certification\" key in the info dict with the certification\n",
    "            movie_info['certification'] = c['certification']\n",
    "    return movie_info\n",
    "\n",
    "\n",
    "def write_json(new_data, filename): \n",
    "    \"\"\"Adapted from: https://www.geeksforgeeks.org/append-to-json-file-using-python/\"\"\"    \n",
    "    \n",
    "    with open(filename,'r+') as file:\n",
    "        # First we load existing data into a dict.\n",
    "        file_data = json.load(file)\n",
    "        ## Choose extend or append\n",
    "        if (type(new_data) == list) & (type(file_data) == list):\n",
    "            file_data.extend(new_data)\n",
    "        else:\n",
    "             file_data.append(new_data)\n",
    "        # Sets file's current position at offset.\n",
    "        file.seek(0)\n",
    "        # convert back to json.\n",
    "        json.dump(file_data, file)\n"
   ]
  },
  {
   "cell_type": "code",
   "execution_count": 7,
   "id": "977e3f99",
   "metadata": {},
   "outputs": [],
   "source": [
    "YEARS_TO_GET = list(range(2000,2022))#[2000,2001]"
   ]
  },
  {
   "cell_type": "code",
   "execution_count": 8,
   "id": "1df8b987",
   "metadata": {},
   "outputs": [
    {
     "data": {
      "application/vnd.jupyter.widget-view+json": {
       "model_id": "639ee30b39e24930b8c294dab65ef169",
       "version_major": 2,
       "version_minor": 0
      },
      "text/plain": [
       "YEARS:   0%|          | 0/22 [00:00<?, ?it/s]"
      ]
     },
     "metadata": {},
     "output_type": "display_data"
    },
    {
     "data": {
      "application/vnd.jupyter.widget-view+json": {
       "model_id": "bd241fbb8fed4b60be0a9d7dfed32bbf",
       "version_major": 2,
       "version_minor": 0
      },
      "text/plain": [
       "Movies from 2000:   0%|          | 0/207 [00:00<?, ?it/s]"
      ]
     },
     "metadata": {},
     "output_type": "display_data"
    },
    {
     "data": {
      "application/vnd.jupyter.widget-view+json": {
       "model_id": "6bd065df5b6949a39b35adc76ba60f31",
       "version_major": 2,
       "version_minor": 0
      },
      "text/plain": [
       "Movies from 2001:   0%|          | 0/240 [00:00<?, ?it/s]"
      ]
     },
     "metadata": {},
     "output_type": "display_data"
    },
    {
     "data": {
      "application/vnd.jupyter.widget-view+json": {
       "model_id": "b0ff9bef48604d1c97efae07a19174d8",
       "version_major": 2,
       "version_minor": 0
      },
      "text/plain": [
       "Movies from 2002:   0%|          | 0/288 [00:00<?, ?it/s]"
      ]
     },
     "metadata": {},
     "output_type": "display_data"
    },
    {
     "data": {
      "application/vnd.jupyter.widget-view+json": {
       "model_id": "c00b0f9581f84c0d8d9e27e5aa2d7048",
       "version_major": 2,
       "version_minor": 0
      },
      "text/plain": [
       "Movies from 2003:   0%|          | 0/367 [00:00<?, ?it/s]"
      ]
     },
     "metadata": {},
     "output_type": "display_data"
    },
    {
     "data": {
      "application/vnd.jupyter.widget-view+json": {
       "model_id": "7dfa039ad86f46eaad805778a990fb82",
       "version_major": 2,
       "version_minor": 0
      },
      "text/plain": [
       "Movies from 2004:   0%|          | 0/419 [00:00<?, ?it/s]"
      ]
     },
     "metadata": {},
     "output_type": "display_data"
    },
    {
     "data": {
      "application/vnd.jupyter.widget-view+json": {
       "model_id": "3ed4886a3f744a7f8d8b6d02ddccad5e",
       "version_major": 2,
       "version_minor": 0
      },
      "text/plain": [
       "Movies from 2005:   0%|          | 0/524 [00:00<?, ?it/s]"
      ]
     },
     "metadata": {},
     "output_type": "display_data"
    },
    {
     "data": {
      "application/vnd.jupyter.widget-view+json": {
       "model_id": "13c577e288524c43b672d5bfab6ace27",
       "version_major": 2,
       "version_minor": 0
      },
      "text/plain": [
       "Movies from 2006:   0%|          | 0/552 [00:00<?, ?it/s]"
      ]
     },
     "metadata": {},
     "output_type": "display_data"
    },
    {
     "data": {
      "application/vnd.jupyter.widget-view+json": {
       "model_id": "228496169ea94429a339ced18e6cf9ad",
       "version_major": 2,
       "version_minor": 0
      },
      "text/plain": [
       "Movies from 2007:   0%|          | 0/642 [00:00<?, ?it/s]"
      ]
     },
     "metadata": {},
     "output_type": "display_data"
    },
    {
     "data": {
      "application/vnd.jupyter.widget-view+json": {
       "model_id": "eabd2c90ebab430696c4a12edad1d069",
       "version_major": 2,
       "version_minor": 0
      },
      "text/plain": [
       "Movies from 2008:   0%|          | 0/751 [00:00<?, ?it/s]"
      ]
     },
     "metadata": {},
     "output_type": "display_data"
    },
    {
     "data": {
      "application/vnd.jupyter.widget-view+json": {
       "model_id": "5a9162449180472b993111f936ae8de0",
       "version_major": 2,
       "version_minor": 0
      },
      "text/plain": [
       "Movies from 2009:   0%|          | 0/1099 [00:00<?, ?it/s]"
      ]
     },
     "metadata": {},
     "output_type": "display_data"
    },
    {
     "data": {
      "application/vnd.jupyter.widget-view+json": {
       "model_id": "4212364a2fe04a148f51fb752706bdf3",
       "version_major": 2,
       "version_minor": 0
      },
      "text/plain": [
       "Movies from 2010:   0%|          | 0/1174 [00:00<?, ?it/s]"
      ]
     },
     "metadata": {},
     "output_type": "display_data"
    },
    {
     "data": {
      "application/vnd.jupyter.widget-view+json": {
       "model_id": "f442800b86044c079650e5e099c67212",
       "version_major": 2,
       "version_minor": 0
      },
      "text/plain": [
       "Movies from 2011:   0%|          | 0/1246 [00:00<?, ?it/s]"
      ]
     },
     "metadata": {},
     "output_type": "display_data"
    },
    {
     "data": {
      "application/vnd.jupyter.widget-view+json": {
       "model_id": "b1cb5e21dd4a4d528dac1a25d5a7354f",
       "version_major": 2,
       "version_minor": 0
      },
      "text/plain": [
       "Movies from 2012:   0%|          | 0/1232 [00:00<?, ?it/s]"
      ]
     },
     "metadata": {},
     "output_type": "display_data"
    },
    {
     "data": {
      "application/vnd.jupyter.widget-view+json": {
       "model_id": "91e670fee16e4601b73480f4e255c53e",
       "version_major": 2,
       "version_minor": 0
      },
      "text/plain": [
       "Movies from 2013:   0%|          | 0/1189 [00:00<?, ?it/s]"
      ]
     },
     "metadata": {},
     "output_type": "display_data"
    },
    {
     "data": {
      "application/vnd.jupyter.widget-view+json": {
       "model_id": "5e5c08a81fd347008994ed173156a3aa",
       "version_major": 2,
       "version_minor": 0
      },
      "text/plain": [
       "Movies from 2014:   0%|          | 0/1147 [00:00<?, ?it/s]"
      ]
     },
     "metadata": {},
     "output_type": "display_data"
    },
    {
     "data": {
      "application/vnd.jupyter.widget-view+json": {
       "model_id": "5c430bfbdc6848c7998029dd2be443ee",
       "version_major": 2,
       "version_minor": 0
      },
      "text/plain": [
       "Movies from 2015:   0%|          | 0/1238 [00:00<?, ?it/s]"
      ]
     },
     "metadata": {},
     "output_type": "display_data"
    },
    {
     "data": {
      "application/vnd.jupyter.widget-view+json": {
       "model_id": "ed53319413604411aad1e113d80a0d2c",
       "version_major": 2,
       "version_minor": 0
      },
      "text/plain": [
       "Movies from 2016:   0%|          | 0/1217 [00:00<?, ?it/s]"
      ]
     },
     "metadata": {},
     "output_type": "display_data"
    },
    {
     "data": {
      "application/vnd.jupyter.widget-view+json": {
       "model_id": "d5da08e334a4483f80b891d420c251b2",
       "version_major": 2,
       "version_minor": 0
      },
      "text/plain": [
       "Movies from 2017:   0%|          | 0/1219 [00:00<?, ?it/s]"
      ]
     },
     "metadata": {},
     "output_type": "display_data"
    },
    {
     "data": {
      "application/vnd.jupyter.widget-view+json": {
       "model_id": "cd0c94572e6c4034b07da049b0c21809",
       "version_major": 2,
       "version_minor": 0
      },
      "text/plain": [
       "Movies from 2018:   0%|          | 0/4800 [00:00<?, ?it/s]"
      ]
     },
     "metadata": {},
     "output_type": "display_data"
    },
    {
     "data": {
      "application/vnd.jupyter.widget-view+json": {
       "model_id": "942cfeb829004ba0ae1a8095778adac4",
       "version_major": 2,
       "version_minor": 0
      },
      "text/plain": [
       "Movies from 2019:   0%|          | 0/5678 [00:00<?, ?it/s]"
      ]
     },
     "metadata": {},
     "output_type": "display_data"
    },
    {
     "data": {
      "application/vnd.jupyter.widget-view+json": {
       "model_id": "0634d6f21ed84ba5af151bb4d5375d06",
       "version_major": 2,
       "version_minor": 0
      },
      "text/plain": [
       "Movies from 2020:   0%|          | 0/4774 [00:00<?, ?it/s]"
      ]
     },
     "metadata": {},
     "output_type": "display_data"
    },
    {
     "data": {
      "application/vnd.jupyter.widget-view+json": {
       "model_id": "2be29a99d285414181007e7a5ddd7839",
       "version_major": 2,
       "version_minor": 0
      },
      "text/plain": [
       "Movies from 2021:   0%|          | 0/4732 [00:00<?, ?it/s]"
      ]
     },
     "metadata": {},
     "output_type": "display_data"
    }
   ],
   "source": [
    "# Start of OUTER loop\n",
    "for YEAR in tqdm_notebook(YEARS_TO_GET,desc='YEARS',\n",
    "                          position=0):\n",
    "    #Defining the JSON file to store results for year\n",
    "    JSON_FILE = f'{FOLDER}tmdb_api_results_{YEAR}.json'\n",
    "\n",
    "    # Check if file exists\n",
    "    file_exists = os.path.isfile(JSON_FILE)\n",
    "\n",
    "\n",
    "    # If it does not exist: create it\n",
    "    if file_exists == False:\n",
    "    # save an empty dict with just \"imdb_id\" to the new json file.\n",
    "        with open(JSON_FILE,'w') as f:\n",
    "            json.dump([{'imdb_id':0}],f)\n",
    "\n",
    "\n",
    "\n",
    "    #Saving new year as the current df\n",
    "    df = basics.loc[ basics['startYear']==YEAR].copy()\n",
    "    # saving movie ids to list\n",
    "    movie_ids = df['tconst'].copy()#.to_list()\n",
    "\n",
    "\n",
    "    # Load existing data from json into a dataframe called \"previous_df\"\n",
    "    previous_df = pd.read_json(JSON_FILE)\n",
    "\n",
    "\n",
    "    # filter out any ids that are already in the JSON_FILE\n",
    "    movie_ids_to_get = movie_ids[~movie_ids.isin(previous_df['imdb_id'])]\n",
    "\n",
    "\n",
    "    #Get index and movie id from list\n",
    "    # INNER Loop\n",
    "    for movie_id in tqdm_notebook(movie_ids_to_get,\n",
    "                                  desc=f'Movies from {YEAR}',\n",
    "                                  position=1,\n",
    "                                  leave=True):\n",
    "        # Attempt to retrieve then data for the movie id\n",
    "        try:\n",
    "            temp = get_movie_with_rating(movie_id)  #This uses your pre-ma    de function\n",
    "            # Append/extend results to existing file using a pre-made function\n",
    "            write_json(temp,JSON_FILE)\n",
    "            # Short 20 ms sleep to prevent overwhelming server\n",
    "            time.sleep(0.02)\n",
    "\n",
    "        # If it fails,  make a dict with just the id and None for certification.\n",
    "        except Exception as e:\n",
    "            continue\n",
    "\n",
    "\n",
    "    \n",
    "    final_year_df = pd.read_json(JSON_FILE)\n",
    "    \n",
    "    csv_fname = f\"{FOLDER}final_tmdb_data_{YEAR}.csv.gz\"\n",
    "    final_year_df.to_csv(csv_fname, compression=\"gzip\", index=False)\n"
   ]
  },
  {
   "cell_type": "markdown",
   "id": "9dffd1f2",
   "metadata": {},
   "source": [
    "- Analysis continued in \"Project 3 - Part 2 - Solution - EDA.ipynb\""
   ]
  }
 ],
 "metadata": {
  "kernelspec": {
   "display_name": "Python (dojo-env)",
   "language": "python",
   "name": "dojo-env"
  },
  "language_info": {
   "codemirror_mode": {
    "name": "ipython",
    "version": 3
   },
   "file_extension": ".py",
   "mimetype": "text/x-python",
   "name": "python",
   "nbconvert_exporter": "python",
   "pygments_lexer": "ipython3",
   "version": "3.8.13"
  },
  "toc": {
   "base_numbering": 1,
   "nav_menu": {},
   "number_sections": false,
   "sideBar": true,
   "skip_h1_title": false,
   "title_cell": "Table of Contents",
   "title_sidebar": "Contents",
   "toc_cell": false,
   "toc_position": {},
   "toc_section_display": true,
   "toc_window_display": false
  },
  "widgets": {
   "application/vnd.jupyter.widget-state+json": {
    "state": {
     "04db38ff0ef24b70a1835e49b456d6c1": {
      "model_module": "@jupyter-widgets/controls",
      "model_module_version": "1.5.0",
      "model_name": "DescriptionStyleModel",
      "state": {
       "description_width": ""
      }
     },
     "097c346ed393475785f93917794291ee": {
      "model_module": "@jupyter-widgets/base",
      "model_module_version": "1.2.0",
      "model_name": "LayoutModel",
      "state": {}
     },
     "0f4c172fc2c74e81b7d1245101d2ed01": {
      "model_module": "@jupyter-widgets/base",
      "model_module_version": "1.2.0",
      "model_name": "LayoutModel",
      "state": {}
     },
     "123ad83ce3d24db7811861f9c7101b35": {
      "model_module": "@jupyter-widgets/base",
      "model_module_version": "1.2.0",
      "model_name": "LayoutModel",
      "state": {}
     },
     "137b858200a2445ba50e95431374b898": {
      "model_module": "@jupyter-widgets/controls",
      "model_module_version": "1.5.0",
      "model_name": "HBoxModel",
      "state": {
       "children": [
        "IPY_MODEL_deb82c581bfd4acbb83ccefb42f707a5",
        "IPY_MODEL_1589e5dce27c4c6c82e74f42ef3796f3",
        "IPY_MODEL_556535a5c5ca4bf8aca84e8494edc6fb"
       ],
       "layout": "IPY_MODEL_0f4c172fc2c74e81b7d1245101d2ed01"
      }
     },
     "1589e5dce27c4c6c82e74f42ef3796f3": {
      "model_module": "@jupyter-widgets/controls",
      "model_module_version": "1.5.0",
      "model_name": "FloatProgressModel",
      "state": {
       "bar_style": "success",
       "layout": "IPY_MODEL_479a06220d22450091eebf563e48cf95",
       "max": 2,
       "style": "IPY_MODEL_5cbebd708a754eb19d9d5d1fc901d7d7",
       "value": 2
      }
     },
     "27a0adb8dada498b918a96a90ee963be": {
      "model_module": "@jupyter-widgets/controls",
      "model_module_version": "1.5.0",
      "model_name": "HTMLModel",
      "state": {
       "layout": "IPY_MODEL_87b36da071c94c8f94101e584fe5021a",
       "style": "IPY_MODEL_f3d9dc8ca1694a5ea12916fb23b4cf22",
       "value": "Movies from 2000: 100%"
      }
     },
     "2877c0ebb95e4ed18efa70940ad7ab32": {
      "model_module": "@jupyter-widgets/controls",
      "model_module_version": "1.5.0",
      "model_name": "FloatProgressModel",
      "state": {
       "bar_style": "success",
       "layout": "IPY_MODEL_9712fa9229bb4273b936a254dc79c8f4",
       "max": 1517,
       "style": "IPY_MODEL_c47f01a06eb44c6fb0caf8e305624d94",
       "value": 1517
      }
     },
     "36edf10c9aa2436a983cbbb4d8b20cd6": {
      "model_module": "@jupyter-widgets/controls",
      "model_module_version": "1.5.0",
      "model_name": "HTMLModel",
      "state": {
       "layout": "IPY_MODEL_e1ed1de9ef51406b8f340dbda7ff7773",
       "style": "IPY_MODEL_d388d50376ad42bd9f3fea6ed3ced9b2",
       "value": "Movies from 2001: 100%"
      }
     },
     "3921be5926bc4e39b5e252b46f3680c0": {
      "model_module": "@jupyter-widgets/controls",
      "model_module_version": "1.5.0",
      "model_name": "HBoxModel",
      "state": {
       "children": [
        "IPY_MODEL_27a0adb8dada498b918a96a90ee963be",
        "IPY_MODEL_affc9ffa5ad949a58adf37992d1ce158",
        "IPY_MODEL_43dddfd110f449c8b57edb6301a1d82e"
       ],
       "layout": "IPY_MODEL_097c346ed393475785f93917794291ee"
      }
     },
     "43dddfd110f449c8b57edb6301a1d82e": {
      "model_module": "@jupyter-widgets/controls",
      "model_module_version": "1.5.0",
      "model_name": "HTMLModel",
      "state": {
       "layout": "IPY_MODEL_7e63e3c9829e4aca9d0ac565d5c466ab",
       "style": "IPY_MODEL_04db38ff0ef24b70a1835e49b456d6c1",
       "value": " 1403/1403 [07:54&lt;00:00,  5.88it/s]"
      }
     },
     "462576b98d1a46d48d5892a9f655074b": {
      "model_module": "@jupyter-widgets/controls",
      "model_module_version": "1.5.0",
      "model_name": "HBoxModel",
      "state": {
       "children": [
        "IPY_MODEL_36edf10c9aa2436a983cbbb4d8b20cd6",
        "IPY_MODEL_2877c0ebb95e4ed18efa70940ad7ab32",
        "IPY_MODEL_c7d7833dbe3c490f9a217dca46d99cf3"
       ],
       "layout": "IPY_MODEL_e4ed4c1974f74162a0e1b123dd0fe211"
      }
     },
     "479a06220d22450091eebf563e48cf95": {
      "model_module": "@jupyter-widgets/base",
      "model_module_version": "1.2.0",
      "model_name": "LayoutModel",
      "state": {}
     },
     "4896d90a9ccb4ffaa84af515e95ea00e": {
      "model_module": "@jupyter-widgets/base",
      "model_module_version": "1.2.0",
      "model_name": "LayoutModel",
      "state": {}
     },
     "556535a5c5ca4bf8aca84e8494edc6fb": {
      "model_module": "@jupyter-widgets/controls",
      "model_module_version": "1.5.0",
      "model_name": "HTMLModel",
      "state": {
       "layout": "IPY_MODEL_8f4400897399448a9fd8444fc77b7e00",
       "style": "IPY_MODEL_f89200eed2444830a45d56fd1eb91aab",
       "value": " 2/2 [16:29&lt;00:00, 498.07s/it]"
      }
     },
     "5cbebd708a754eb19d9d5d1fc901d7d7": {
      "model_module": "@jupyter-widgets/controls",
      "model_module_version": "1.5.0",
      "model_name": "ProgressStyleModel",
      "state": {
       "description_width": ""
      }
     },
     "7e63e3c9829e4aca9d0ac565d5c466ab": {
      "model_module": "@jupyter-widgets/base",
      "model_module_version": "1.2.0",
      "model_name": "LayoutModel",
      "state": {}
     },
     "7f791e3814f744f1bbed9519bf0a129b": {
      "model_module": "@jupyter-widgets/controls",
      "model_module_version": "1.5.0",
      "model_name": "DescriptionStyleModel",
      "state": {
       "description_width": ""
      }
     },
     "87b36da071c94c8f94101e584fe5021a": {
      "model_module": "@jupyter-widgets/base",
      "model_module_version": "1.2.0",
      "model_name": "LayoutModel",
      "state": {}
     },
     "8f4400897399448a9fd8444fc77b7e00": {
      "model_module": "@jupyter-widgets/base",
      "model_module_version": "1.2.0",
      "model_name": "LayoutModel",
      "state": {}
     },
     "9712fa9229bb4273b936a254dc79c8f4": {
      "model_module": "@jupyter-widgets/base",
      "model_module_version": "1.2.0",
      "model_name": "LayoutModel",
      "state": {}
     },
     "affc9ffa5ad949a58adf37992d1ce158": {
      "model_module": "@jupyter-widgets/controls",
      "model_module_version": "1.5.0",
      "model_name": "FloatProgressModel",
      "state": {
       "bar_style": "success",
       "layout": "IPY_MODEL_4896d90a9ccb4ffaa84af515e95ea00e",
       "max": 1403,
       "style": "IPY_MODEL_ce9219f8f9774a27848d4dd17ec82ac3",
       "value": 1403
      }
     },
     "b624fa082c3b4b15a36a7839f1407ea6": {
      "model_module": "@jupyter-widgets/controls",
      "model_module_version": "1.5.0",
      "model_name": "DescriptionStyleModel",
      "state": {
       "description_width": ""
      }
     },
     "c47f01a06eb44c6fb0caf8e305624d94": {
      "model_module": "@jupyter-widgets/controls",
      "model_module_version": "1.5.0",
      "model_name": "ProgressStyleModel",
      "state": {
       "description_width": ""
      }
     },
     "c7d7833dbe3c490f9a217dca46d99cf3": {
      "model_module": "@jupyter-widgets/controls",
      "model_module_version": "1.5.0",
      "model_name": "HTMLModel",
      "state": {
       "layout": "IPY_MODEL_d89fe75864084a8282817c1be9a471fe",
       "style": "IPY_MODEL_b624fa082c3b4b15a36a7839f1407ea6",
       "value": " 1517/1517 [08:34&lt;00:00,  5.45it/s]"
      }
     },
     "ce9219f8f9774a27848d4dd17ec82ac3": {
      "model_module": "@jupyter-widgets/controls",
      "model_module_version": "1.5.0",
      "model_name": "ProgressStyleModel",
      "state": {
       "description_width": ""
      }
     },
     "d388d50376ad42bd9f3fea6ed3ced9b2": {
      "model_module": "@jupyter-widgets/controls",
      "model_module_version": "1.5.0",
      "model_name": "DescriptionStyleModel",
      "state": {
       "description_width": ""
      }
     },
     "d89fe75864084a8282817c1be9a471fe": {
      "model_module": "@jupyter-widgets/base",
      "model_module_version": "1.2.0",
      "model_name": "LayoutModel",
      "state": {}
     },
     "deb82c581bfd4acbb83ccefb42f707a5": {
      "model_module": "@jupyter-widgets/controls",
      "model_module_version": "1.5.0",
      "model_name": "HTMLModel",
      "state": {
       "layout": "IPY_MODEL_123ad83ce3d24db7811861f9c7101b35",
       "style": "IPY_MODEL_7f791e3814f744f1bbed9519bf0a129b",
       "value": "YEARS: 100%"
      }
     },
     "e1ed1de9ef51406b8f340dbda7ff7773": {
      "model_module": "@jupyter-widgets/base",
      "model_module_version": "1.2.0",
      "model_name": "LayoutModel",
      "state": {}
     },
     "e4ed4c1974f74162a0e1b123dd0fe211": {
      "model_module": "@jupyter-widgets/base",
      "model_module_version": "1.2.0",
      "model_name": "LayoutModel",
      "state": {}
     },
     "f3d9dc8ca1694a5ea12916fb23b4cf22": {
      "model_module": "@jupyter-widgets/controls",
      "model_module_version": "1.5.0",
      "model_name": "DescriptionStyleModel",
      "state": {
       "description_width": ""
      }
     },
     "f89200eed2444830a45d56fd1eb91aab": {
      "model_module": "@jupyter-widgets/controls",
      "model_module_version": "1.5.0",
      "model_name": "DescriptionStyleModel",
      "state": {
       "description_width": ""
      }
     }
    },
    "version_major": 2,
    "version_minor": 0
   }
  }
 },
 "nbformat": 4,
 "nbformat_minor": 5
}
